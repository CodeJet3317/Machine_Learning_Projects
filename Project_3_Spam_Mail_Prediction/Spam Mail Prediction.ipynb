{
 "cells": [
  {
   "cell_type": "markdown",
   "id": "3a4321e2-98e9-4acf-a5b8-58252973e544",
   "metadata": {},
   "source": [
    "# Spam Mail Prediction System"
   ]
  },
  {
   "cell_type": "code",
   "execution_count": 1,
   "id": "2dda41c7-6cf6-4dd1-9eba-c5cc435ac7e6",
   "metadata": {},
   "outputs": [],
   "source": [
    "# Importing dependencies\n",
    "import pandas as pd\n",
    "import numpy as np\n",
    "from sklearn.feature_extraction.text import TfidfVectorizer\n",
    "from sklearn.model_selection import train_test_split\n",
    "from sklearn.linear_model import LogisticRegression\n",
    "from sklearn.metrics import accuracy_score"
   ]
  },
  {
   "cell_type": "markdown",
   "id": "0932d109-de16-45c7-bd93-9d9266416242",
   "metadata": {},
   "source": [
    "**Data Collection and Pre-processing**"
   ]
  },
  {
   "cell_type": "code",
   "execution_count": 2,
   "id": "64229165-dab8-4b3b-b125-3a0e64df5af0",
   "metadata": {},
   "outputs": [],
   "source": [
    "# Loading the data from csv file to a pandas dataframe\n",
    "raw_mail_data = pd.read_csv('dataset/mail_data.csv')"
   ]
  },
  {
   "cell_type": "code",
   "execution_count": 3,
   "id": "ef6d7dd2-135e-4d9b-bdc6-bedee60decf0",
   "metadata": {},
   "outputs": [
    {
     "data": {
      "text/html": [
       "<div>\n",
       "<style scoped>\n",
       "    .dataframe tbody tr th:only-of-type {\n",
       "        vertical-align: middle;\n",
       "    }\n",
       "\n",
       "    .dataframe tbody tr th {\n",
       "        vertical-align: top;\n",
       "    }\n",
       "\n",
       "    .dataframe thead th {\n",
       "        text-align: right;\n",
       "    }\n",
       "</style>\n",
       "<table border=\"1\" class=\"dataframe\">\n",
       "  <thead>\n",
       "    <tr style=\"text-align: right;\">\n",
       "      <th></th>\n",
       "      <th>Category</th>\n",
       "      <th>Message</th>\n",
       "    </tr>\n",
       "  </thead>\n",
       "  <tbody>\n",
       "    <tr>\n",
       "      <th>0</th>\n",
       "      <td>ham</td>\n",
       "      <td>Go until jurong point, crazy.. Available only ...</td>\n",
       "    </tr>\n",
       "    <tr>\n",
       "      <th>1</th>\n",
       "      <td>ham</td>\n",
       "      <td>Ok lar... Joking wif u oni...</td>\n",
       "    </tr>\n",
       "    <tr>\n",
       "      <th>2</th>\n",
       "      <td>spam</td>\n",
       "      <td>Free entry in 2 a wkly comp to win FA Cup fina...</td>\n",
       "    </tr>\n",
       "    <tr>\n",
       "      <th>3</th>\n",
       "      <td>ham</td>\n",
       "      <td>U dun say so early hor... U c already then say...</td>\n",
       "    </tr>\n",
       "    <tr>\n",
       "      <th>4</th>\n",
       "      <td>ham</td>\n",
       "      <td>Nah I don't think he goes to usf, he lives aro...</td>\n",
       "    </tr>\n",
       "  </tbody>\n",
       "</table>\n",
       "</div>"
      ],
      "text/plain": [
       "  Category                                            Message\n",
       "0      ham  Go until jurong point, crazy.. Available only ...\n",
       "1      ham                      Ok lar... Joking wif u oni...\n",
       "2     spam  Free entry in 2 a wkly comp to win FA Cup fina...\n",
       "3      ham  U dun say so early hor... U c already then say...\n",
       "4      ham  Nah I don't think he goes to usf, he lives aro..."
      ]
     },
     "execution_count": 3,
     "metadata": {},
     "output_type": "execute_result"
    }
   ],
   "source": [
    "# Printing the first 5 rows\n",
    "raw_mail_data.head()"
   ]
  },
  {
   "cell_type": "code",
   "execution_count": 4,
   "id": "8dc73104-a251-47f1-92f7-6d44e2b079f5",
   "metadata": {},
   "outputs": [
    {
     "data": {
      "text/plain": [
       "(5572, 2)"
      ]
     },
     "execution_count": 4,
     "metadata": {},
     "output_type": "execute_result"
    }
   ],
   "source": [
    "# Checking the number of rows and cols inside the data\n",
    "raw_mail_data.shape"
   ]
  },
  {
   "cell_type": "code",
   "execution_count": 5,
   "id": "cf7add58-f46f-43b5-a507-235f3ad08cd9",
   "metadata": {},
   "outputs": [
    {
     "data": {
      "text/plain": [
       "Category    0\n",
       "Message     0\n",
       "dtype: int64"
      ]
     },
     "execution_count": 5,
     "metadata": {},
     "output_type": "execute_result"
    }
   ],
   "source": [
    "# checking for any null values\n",
    "raw_mail_data.isna().sum()"
   ]
  },
  {
   "cell_type": "code",
   "execution_count": 6,
   "id": "d4906f82-ed65-458c-a166-bbc3bd81ecb4",
   "metadata": {},
   "outputs": [
    {
     "data": {
      "text/plain": [
       "Category\n",
       "ham     4825\n",
       "spam     747\n",
       "Name: count, dtype: int64"
      ]
     },
     "execution_count": 6,
     "metadata": {},
     "output_type": "execute_result"
    }
   ],
   "source": [
    "# Checking total number of labels\n",
    "raw_mail_data['Category'].value_counts()"
   ]
  },
  {
   "cell_type": "markdown",
   "id": "c376fa11-2d05-4768-8245-2df2af1f5cad",
   "metadata": {},
   "source": [
    "Here : <br>\n",
    "Ham represents legit data and<br>\n",
    "Spam represents spam data or fake data"
   ]
  },
  {
   "cell_type": "code",
   "execution_count": 7,
   "id": "37db1001-4fa8-4827-876a-8702195c8d6f",
   "metadata": {},
   "outputs": [],
   "source": [
    "# replacing and removing spaces inside the data\n",
    "mail_data = raw_mail_data.where((pd.notnull(raw_mail_data)),'')"
   ]
  },
  {
   "cell_type": "code",
   "execution_count": 8,
   "id": "3e542ed0-01cf-4843-a1d6-c4a81b4572f0",
   "metadata": {},
   "outputs": [
    {
     "data": {
      "text/html": [
       "<div>\n",
       "<style scoped>\n",
       "    .dataframe tbody tr th:only-of-type {\n",
       "        vertical-align: middle;\n",
       "    }\n",
       "\n",
       "    .dataframe tbody tr th {\n",
       "        vertical-align: top;\n",
       "    }\n",
       "\n",
       "    .dataframe thead th {\n",
       "        text-align: right;\n",
       "    }\n",
       "</style>\n",
       "<table border=\"1\" class=\"dataframe\">\n",
       "  <thead>\n",
       "    <tr style=\"text-align: right;\">\n",
       "      <th></th>\n",
       "      <th>Category</th>\n",
       "      <th>Message</th>\n",
       "    </tr>\n",
       "  </thead>\n",
       "  <tbody>\n",
       "    <tr>\n",
       "      <th>0</th>\n",
       "      <td>ham</td>\n",
       "      <td>Go until jurong point, crazy.. Available only ...</td>\n",
       "    </tr>\n",
       "    <tr>\n",
       "      <th>1</th>\n",
       "      <td>ham</td>\n",
       "      <td>Ok lar... Joking wif u oni...</td>\n",
       "    </tr>\n",
       "    <tr>\n",
       "      <th>2</th>\n",
       "      <td>spam</td>\n",
       "      <td>Free entry in 2 a wkly comp to win FA Cup fina...</td>\n",
       "    </tr>\n",
       "    <tr>\n",
       "      <th>3</th>\n",
       "      <td>ham</td>\n",
       "      <td>U dun say so early hor... U c already then say...</td>\n",
       "    </tr>\n",
       "    <tr>\n",
       "      <th>4</th>\n",
       "      <td>ham</td>\n",
       "      <td>Nah I don't think he goes to usf, he lives aro...</td>\n",
       "    </tr>\n",
       "  </tbody>\n",
       "</table>\n",
       "</div>"
      ],
      "text/plain": [
       "  Category                                            Message\n",
       "0      ham  Go until jurong point, crazy.. Available only ...\n",
       "1      ham                      Ok lar... Joking wif u oni...\n",
       "2     spam  Free entry in 2 a wkly comp to win FA Cup fina...\n",
       "3      ham  U dun say so early hor... U c already then say...\n",
       "4      ham  Nah I don't think he goes to usf, he lives aro..."
      ]
     },
     "execution_count": 8,
     "metadata": {},
     "output_type": "execute_result"
    }
   ],
   "source": [
    "mail_data.head()"
   ]
  },
  {
   "cell_type": "markdown",
   "id": "ebe4c420-1cc8-4cd0-a07f-4b150a1a54a9",
   "metadata": {},
   "source": [
    "**Balancing the data**"
   ]
  },
  {
   "cell_type": "code",
   "execution_count": 9,
   "id": "5ca26f32-225e-4a17-a2ba-e21706f789f7",
   "metadata": {},
   "outputs": [],
   "source": [
    "# Seprating the data based on labels\n",
    "ham_data = mail_data[mail_data.Category == 'ham']\n",
    "spam_data = mail_data[mail_data.Category == 'spam']"
   ]
  },
  {
   "cell_type": "code",
   "execution_count": 10,
   "id": "4e0ea6da-3c43-40c5-ba7c-eacce014078f",
   "metadata": {},
   "outputs": [
    {
     "name": "stdout",
     "output_type": "stream",
     "text": [
      "     Category                                            Message\n",
      "0         ham  Go until jurong point, crazy.. Available only ...\n",
      "1         ham                      Ok lar... Joking wif u oni...\n",
      "3         ham  U dun say so early hor... U c already then say...\n",
      "4         ham  Nah I don't think he goes to usf, he lives aro...\n",
      "6         ham  Even my brother is not like to speak with me. ...\n",
      "...       ...                                                ...\n",
      "5565      ham                                       Huh y lei...\n",
      "5568      ham               Will ü b going to esplanade fr home?\n",
      "5569      ham  Pity, * was in mood for that. So...any other s...\n",
      "5570      ham  The guy did some bitching but I acted like i'd...\n",
      "5571      ham                         Rofl. Its true to its name\n",
      "\n",
      "[4825 rows x 2 columns]\n",
      "     Category                                            Message\n",
      "2        spam  Free entry in 2 a wkly comp to win FA Cup fina...\n",
      "5        spam  FreeMsg Hey there darling it's been 3 week's n...\n",
      "8        spam  WINNER!! As a valued network customer you have...\n",
      "9        spam  Had your mobile 11 months or more? U R entitle...\n",
      "11       spam  SIX chances to win CASH! From 100 to 20,000 po...\n",
      "...       ...                                                ...\n",
      "5537     spam  Want explicit SEX in 30 secs? Ring 02073162414...\n",
      "5540     spam  ASKED 3MOBILE IF 0870 CHATLINES INCLU IN FREE ...\n",
      "5547     spam  Had your contract mobile 11 Mnths? Latest Moto...\n",
      "5566     spam  REMINDER FROM O2: To get 2.50 pounds free call...\n",
      "5567     spam  This is the 2nd time we have tried 2 contact u...\n",
      "\n",
      "[747 rows x 2 columns]\n"
     ]
    }
   ],
   "source": [
    "# Checking the datasets\n",
    "print(ham_data)\n",
    "print(spam_data)"
   ]
  },
  {
   "cell_type": "code",
   "execution_count": 11,
   "id": "8b2cc95f-96e4-437e-b7b4-646f42ff23d0",
   "metadata": {},
   "outputs": [
    {
     "data": {
      "text/plain": [
       "(747, 2)"
      ]
     },
     "execution_count": 11,
     "metadata": {},
     "output_type": "execute_result"
    }
   ],
   "source": [
    "# Reducing the Ham labels to equal to spam labels\n",
    "ham_sample = ham_data.sample(n=747)\n",
    "ham_sample.shape"
   ]
  },
  {
   "cell_type": "markdown",
   "id": "48f5d312-60e2-4304-a824-b462ba4df0ee",
   "metadata": {},
   "source": [
    "Now both contains same number of labels and we can continue forward"
   ]
  },
  {
   "cell_type": "code",
   "execution_count": 12,
   "id": "e3070e77-2fb7-4579-8f3a-dbc0fd521ca4",
   "metadata": {},
   "outputs": [],
   "source": [
    "# Joining both spam and ham reduced or balanced data into one\n",
    "new_mail_data = pd.concat([ham_sample,spam_data],axis = 0)"
   ]
  },
  {
   "cell_type": "code",
   "execution_count": 13,
   "id": "ef06a23a-5619-4fa0-888b-c7f04bad5f6f",
   "metadata": {},
   "outputs": [
    {
     "data": {
      "text/html": [
       "<div>\n",
       "<style scoped>\n",
       "    .dataframe tbody tr th:only-of-type {\n",
       "        vertical-align: middle;\n",
       "    }\n",
       "\n",
       "    .dataframe tbody tr th {\n",
       "        vertical-align: top;\n",
       "    }\n",
       "\n",
       "    .dataframe thead th {\n",
       "        text-align: right;\n",
       "    }\n",
       "</style>\n",
       "<table border=\"1\" class=\"dataframe\">\n",
       "  <thead>\n",
       "    <tr style=\"text-align: right;\">\n",
       "      <th></th>\n",
       "      <th>Category</th>\n",
       "      <th>Message</th>\n",
       "    </tr>\n",
       "  </thead>\n",
       "  <tbody>\n",
       "    <tr>\n",
       "      <th>1641</th>\n",
       "      <td>ham</td>\n",
       "      <td>Alright, we're all set here, text the man</td>\n",
       "    </tr>\n",
       "    <tr>\n",
       "      <th>861</th>\n",
       "      <td>ham</td>\n",
       "      <td>In work now. Going have in few min.</td>\n",
       "    </tr>\n",
       "    <tr>\n",
       "      <th>4547</th>\n",
       "      <td>ham</td>\n",
       "      <td>Never try alone to take the weight of a tear t...</td>\n",
       "    </tr>\n",
       "    <tr>\n",
       "      <th>2477</th>\n",
       "      <td>ham</td>\n",
       "      <td>i dnt wnt to tlk wid u</td>\n",
       "    </tr>\n",
       "    <tr>\n",
       "      <th>3584</th>\n",
       "      <td>ham</td>\n",
       "      <td>I sent your maga that money yesterday oh.</td>\n",
       "    </tr>\n",
       "  </tbody>\n",
       "</table>\n",
       "</div>"
      ],
      "text/plain": [
       "     Category                                            Message\n",
       "1641      ham          Alright, we're all set here, text the man\n",
       "861       ham                In work now. Going have in few min.\n",
       "4547      ham  Never try alone to take the weight of a tear t...\n",
       "2477      ham                             i dnt wnt to tlk wid u\n",
       "3584      ham          I sent your maga that money yesterday oh."
      ]
     },
     "execution_count": 13,
     "metadata": {},
     "output_type": "execute_result"
    }
   ],
   "source": [
    "# printing the first 5 data\n",
    "new_mail_data.head()"
   ]
  },
  {
   "cell_type": "code",
   "execution_count": 14,
   "id": "e6fb87d7-d5d6-4fd1-82e7-0c42e99aaead",
   "metadata": {},
   "outputs": [
    {
     "data": {
      "text/html": [
       "<div>\n",
       "<style scoped>\n",
       "    .dataframe tbody tr th:only-of-type {\n",
       "        vertical-align: middle;\n",
       "    }\n",
       "\n",
       "    .dataframe tbody tr th {\n",
       "        vertical-align: top;\n",
       "    }\n",
       "\n",
       "    .dataframe thead th {\n",
       "        text-align: right;\n",
       "    }\n",
       "</style>\n",
       "<table border=\"1\" class=\"dataframe\">\n",
       "  <thead>\n",
       "    <tr style=\"text-align: right;\">\n",
       "      <th></th>\n",
       "      <th>Category</th>\n",
       "      <th>Message</th>\n",
       "    </tr>\n",
       "  </thead>\n",
       "  <tbody>\n",
       "    <tr>\n",
       "      <th>5537</th>\n",
       "      <td>spam</td>\n",
       "      <td>Want explicit SEX in 30 secs? Ring 02073162414...</td>\n",
       "    </tr>\n",
       "    <tr>\n",
       "      <th>5540</th>\n",
       "      <td>spam</td>\n",
       "      <td>ASKED 3MOBILE IF 0870 CHATLINES INCLU IN FREE ...</td>\n",
       "    </tr>\n",
       "    <tr>\n",
       "      <th>5547</th>\n",
       "      <td>spam</td>\n",
       "      <td>Had your contract mobile 11 Mnths? Latest Moto...</td>\n",
       "    </tr>\n",
       "    <tr>\n",
       "      <th>5566</th>\n",
       "      <td>spam</td>\n",
       "      <td>REMINDER FROM O2: To get 2.50 pounds free call...</td>\n",
       "    </tr>\n",
       "    <tr>\n",
       "      <th>5567</th>\n",
       "      <td>spam</td>\n",
       "      <td>This is the 2nd time we have tried 2 contact u...</td>\n",
       "    </tr>\n",
       "  </tbody>\n",
       "</table>\n",
       "</div>"
      ],
      "text/plain": [
       "     Category                                            Message\n",
       "5537     spam  Want explicit SEX in 30 secs? Ring 02073162414...\n",
       "5540     spam  ASKED 3MOBILE IF 0870 CHATLINES INCLU IN FREE ...\n",
       "5547     spam  Had your contract mobile 11 Mnths? Latest Moto...\n",
       "5566     spam  REMINDER FROM O2: To get 2.50 pounds free call...\n",
       "5567     spam  This is the 2nd time we have tried 2 contact u..."
      ]
     },
     "execution_count": 14,
     "metadata": {},
     "output_type": "execute_result"
    }
   ],
   "source": [
    "# printing the last 5 data\n",
    "new_mail_data.tail()"
   ]
  },
  {
   "cell_type": "code",
   "execution_count": 15,
   "id": "49116907-8e5d-4503-b7d6-3b2e0f3f7a35",
   "metadata": {},
   "outputs": [
    {
     "data": {
      "text/plain": [
       "Category\n",
       "ham     747\n",
       "spam    747\n",
       "Name: count, dtype: int64"
      ]
     },
     "execution_count": 15,
     "metadata": {},
     "output_type": "execute_result"
    }
   ],
   "source": [
    "# Checking total no of spam and ham data inside the new data created\n",
    "new_mail_data['Category'].value_counts()"
   ]
  },
  {
   "cell_type": "markdown",
   "id": "80266a26-7cf9-4719-a811-bd29191187f0",
   "metadata": {},
   "source": [
    "Label Encoding the category to numerical values"
   ]
  },
  {
   "cell_type": "code",
   "execution_count": 16,
   "id": "3ad216cb-34b4-47c6-8e4c-0789d8e3f418",
   "metadata": {},
   "outputs": [],
   "source": [
    "# now label encoding all this values where spam mail as 0 and ham mail as 1\n",
    "# Loc is used to locate few values\n",
    "new_mail_data.loc[new_mail_data['Category'] == 'spam','Category',] = 0\n",
    "new_mail_data.loc[new_mail_data['Category'] == 'ham','Category',] = 1"
   ]
  },
  {
   "cell_type": "markdown",
   "id": "ed8cca23-fa94-4dc9-ab32-ebe645c199b1",
   "metadata": {},
   "source": [
    "Spam - 0 <br>\n",
    "Ham - 1"
   ]
  },
  {
   "cell_type": "code",
   "execution_count": 17,
   "id": "966d3a1b-5d34-431e-8d71-01e763b51a6b",
   "metadata": {},
   "outputs": [
    {
     "data": {
      "text/plain": [
       "Category\n",
       "1    747\n",
       "0    747\n",
       "Name: count, dtype: int64"
      ]
     },
     "execution_count": 17,
     "metadata": {},
     "output_type": "execute_result"
    }
   ],
   "source": [
    "# Rechecking the data is encoded or not\n",
    "new_mail_data['Category'].value_counts()"
   ]
  },
  {
   "cell_type": "markdown",
   "id": "a2351f92-a244-4a33-b614-7db7ba921e5d",
   "metadata": {},
   "source": [
    "From the value counts we can see that spam is replaced by 0 and ham is replaced by 1"
   ]
  },
  {
   "cell_type": "code",
   "execution_count": 18,
   "id": "3f3e4815-bf40-4883-89b9-41eba1e79b15",
   "metadata": {},
   "outputs": [],
   "source": [
    "# Splitting the data into features and target\n",
    "X = new_mail_data.drop(columns='Category',axis = 1)\n",
    "y = new_mail_data['Category']"
   ]
  },
  {
   "cell_type": "code",
   "execution_count": 19,
   "id": "b6a12689-66fe-4aa4-8d5e-84fde39a37ef",
   "metadata": {},
   "outputs": [
    {
     "name": "stdout",
     "output_type": "stream",
     "text": [
      "                                                Message\n",
      "1641          Alright, we're all set here, text the man\n",
      "861                 In work now. Going have in few min.\n",
      "4547  Never try alone to take the weight of a tear t...\n",
      "2477                             i dnt wnt to tlk wid u\n",
      "3584          I sent your maga that money yesterday oh.\n",
      "...                                                 ...\n",
      "5537  Want explicit SEX in 30 secs? Ring 02073162414...\n",
      "5540  ASKED 3MOBILE IF 0870 CHATLINES INCLU IN FREE ...\n",
      "5547  Had your contract mobile 11 Mnths? Latest Moto...\n",
      "5566  REMINDER FROM O2: To get 2.50 pounds free call...\n",
      "5567  This is the 2nd time we have tried 2 contact u...\n",
      "\n",
      "[1494 rows x 1 columns]\n",
      "1641    1\n",
      "861     1\n",
      "4547    1\n",
      "2477    1\n",
      "3584    1\n",
      "       ..\n",
      "5537    0\n",
      "5540    0\n",
      "5547    0\n",
      "5566    0\n",
      "5567    0\n",
      "Name: Category, Length: 1494, dtype: object\n"
     ]
    }
   ],
   "source": [
    "print(X)\n",
    "print(y)"
   ]
  },
  {
   "cell_type": "markdown",
   "id": "e88a38e8-705d-4b46-b617-79fa2626fc79",
   "metadata": {},
   "source": [
    "**Splitting the data into train and test**"
   ]
  },
  {
   "cell_type": "code",
   "execution_count": 20,
   "id": "fe541eed-7fde-4c7c-9fd8-ea50a973413d",
   "metadata": {},
   "outputs": [],
   "source": [
    "X_train,X_test,y_train,y_test = train_test_split(X,y,test_size=0.2,stratify = y, random_state=3)"
   ]
  },
  {
   "cell_type": "code",
   "execution_count": 21,
   "id": "722de7c4-43dd-4578-8678-fa4952719cc2",
   "metadata": {},
   "outputs": [
    {
     "name": "stdout",
     "output_type": "stream",
     "text": [
      "(1494, 1) (1195, 1) (299, 1)\n"
     ]
    }
   ],
   "source": [
    "print(X.shape,X_train.shape,X_test.shape)"
   ]
  },
  {
   "cell_type": "markdown",
   "id": "e6db30c2-f21b-403f-9e00-2c63a23f27e2",
   "metadata": {},
   "source": [
    "**Feature Extraction**"
   ]
  },
  {
   "cell_type": "code",
   "execution_count": 25,
   "id": "c56813bd-5bb8-4881-8653-f8c6178ab425",
   "metadata": {},
   "outputs": [],
   "source": [
    "# Trasnform the text data into numerical/feature vectors that can be used as input to trian the model.\n",
    "# min_df decides the minimum score values to take , lowercase = convert the words to lowercase\n",
    "feature_extraction = TfidfVectorizer(min_df=1,stop_words='english',lowercase=True)"
   ]
  },
  {
   "cell_type": "code",
   "execution_count": 26,
   "id": "98546ce4-bca5-43c0-8ec5-72fd4519673e",
   "metadata": {},
   "outputs": [],
   "source": [
    "# Converting X_train and X_test to feature vectors\n",
    "X_train_features = feature_extraction.fit_transform(X_train['Message'])\n",
    "X_test_features = feature_extraction.transform(X_test['Message'])\n",
    "\n",
    "# Convert Y_train and Y_test values as integer\n",
    "y_train = y_train.astype('int')\n",
    "y_test = y_test.astype('int')"
   ]
  },
  {
   "cell_type": "code",
   "execution_count": 30,
   "id": "31311284-8a2e-4c20-bcf5-5f5ce7c8b580",
   "metadata": {},
   "outputs": [
    {
     "name": "stdout",
     "output_type": "stream",
     "text": [
      "<Compressed Sparse Row sparse matrix of dtype 'float64'\n",
      "\twith 13158 stored elements and shape (1195, 3828)>\n",
      "  Coords\tValues\n",
      "  (0, 1814)\t0.3830827586878181\n",
      "  (0, 2353)\t0.5870194963816389\n",
      "  (0, 2063)\t0.46384362759041964\n",
      "  (0, 2182)\t0.3830827586878181\n",
      "  (0, 1750)\t0.3830827586878181\n",
      "  (1, 1378)\t0.2721065180770504\n",
      "  (1, 2025)\t0.2721065180770504\n",
      "  (1, 1152)\t0.15364214508490576\n",
      "  (1, 846)\t0.25718417486917206\n",
      "  (1, 1732)\t0.2721065180770504\n",
      "  (1, 1954)\t0.25718417486917206\n",
      "  (1, 3228)\t0.25718417486917206\n",
      "  (1, 998)\t0.20616434645459256\n",
      "  (1, 1498)\t0.2721065180770504\n",
      "  (1, 2616)\t0.21287433158097807\n",
      "  (1, 2284)\t0.25718417486917206\n",
      "  (1, 386)\t0.23838424578826778\n",
      "  (1, 2418)\t0.2721065180770504\n",
      "  (1, 3293)\t0.2721065180770504\n",
      "  (1, 1056)\t0.2721065180770504\n",
      "  (1, 0)\t0.22108668966247091\n",
      "  (2, 3370)\t0.18994422055631405\n",
      "  (2, 3553)\t0.1250078380415494\n",
      "  (2, 3099)\t0.27585312733823314\n",
      "  (2, 3712)\t0.1557576294465119\n",
      "  :\t:\n",
      "  (1191, 3163)\t0.4010485479982434\n",
      "  (1192, 2128)\t0.35181281593053393\n",
      "  (1192, 1374)\t0.3748263440950111\n",
      "  (1192, 3797)\t0.4550868940244342\n",
      "  (1192, 874)\t0.4912440736725648\n",
      "  (1192, 2300)\t0.5360113182463349\n",
      "  (1193, 1798)\t0.5084602995276144\n",
      "  (1193, 3612)\t0.5914781337012311\n",
      "  (1193, 1758)\t0.6257968849056355\n",
      "  (1194, 2432)\t0.13463460213309028\n",
      "  (1194, 1719)\t0.1278353650515705\n",
      "  (1194, 1376)\t0.13921465726598733\n",
      "  (1194, 2165)\t0.27842931453197467\n",
      "  (1194, 2714)\t0.21967501746420334\n",
      "  (1194, 868)\t0.21967501746420334\n",
      "  (1194, 2318)\t0.4393500349284067\n",
      "  (1194, 1974)\t0.21967501746420334\n",
      "  (1194, 1947)\t0.21967501746420334\n",
      "  (1194, 2434)\t0.21967501746420334\n",
      "  (1194, 2698)\t0.21967501746420334\n",
      "  (1194, 3118)\t0.21967501746420334\n",
      "  (1194, 2697)\t0.21967501746420334\n",
      "  (1194, 1459)\t0.21967501746420334\n",
      "  (1194, 2695)\t0.4393500349284067\n",
      "  (1194, 2332)\t0.21967501746420334 <Compressed Sparse Row sparse matrix of dtype 'float64'\n",
      "\twith 2633 stored elements and shape (299, 3828)>\n",
      "  Coords\tValues\n",
      "  (0, 1254)\t0.5111113459541785\n",
      "  (0, 2644)\t0.5611761756979092\n",
      "  (0, 3147)\t0.6510349390516437\n",
      "  (1, 3532)\t1.0\n",
      "  (2, 272)\t0.3121916456445628\n",
      "  (2, 627)\t0.3034041467394656\n",
      "  (2, 1112)\t0.35356920277873455\n",
      "  (2, 1139)\t0.250453445497332\n",
      "  (2, 1254)\t0.21196712698615724\n",
      "  (2, 1857)\t0.3121916456445628\n",
      "  (2, 2440)\t0.24537529987229245\n",
      "  (2, 2728)\t0.18639200982931925\n",
      "  (2, 2890)\t0.3121916456445628\n",
      "  (2, 2999)\t0.2561303293231936\n",
      "  (2, 3573)\t0.2561303293231936\n",
      "  (2, 3576)\t0.2895385022093288\n",
      "  (2, 3719)\t0.2699959738533304\n",
      "  (3, 524)\t0.3806690095113308\n",
      "  (3, 627)\t0.3241054714847226\n",
      "  (3, 1483)\t0.3597930905929803\n",
      "  (3, 1811)\t0.28429674542550076\n",
      "  (3, 2135)\t0.3806690095113308\n",
      "  (3, 2455)\t0.3806690095113308\n",
      "  (3, 2691)\t0.3806690095113308\n",
      "  (3, 3706)\t0.3241054714847226\n",
      "  :\t:\n",
      "  (297, 596)\t0.2677778435119213\n",
      "  (297, 1614)\t0.12106821224731018\n",
      "  (297, 1625)\t0.20610582510533537\n",
      "  (297, 1819)\t0.24121715089513393\n",
      "  (297, 1999)\t0.134184270383929\n",
      "  (297, 2336)\t0.1914299528345027\n",
      "  (297, 2462)\t0.28331485268592316\n",
      "  (297, 2463)\t0.17255875648755728\n",
      "  (297, 2863)\t0.14443380669874945\n",
      "  (297, 3328)\t0.179545132488548\n",
      "  (297, 3426)\t0.5176762694626718\n",
      "  (297, 3492)\t0.12516727470572792\n",
      "  (297, 3496)\t0.2567541600691358\n",
      "  (297, 3553)\t0.2567785079043299\n",
      "  (297, 3679)\t0.16074496300071636\n",
      "  (298, 650)\t0.31678643134632195\n",
      "  (298, 1622)\t0.3516681426878865\n",
      "  (298, 1708)\t0.24299496569862364\n",
      "  (298, 1842)\t0.5230004538179247\n",
      "  (298, 2510)\t0.23254579041742351\n",
      "  (298, 2810)\t0.27787667704018815\n",
      "  (298, 3135)\t0.2643766481773806\n",
      "  (298, 3337)\t0.3516681426878865\n",
      "  (298, 3743)\t0.19766407907585898\n",
      "  (298, 3816)\t0.28190472000475747\n"
     ]
    }
   ],
   "source": [
    "# Checking if the featured is vectorized or not\n",
    "print(X_train_features,X_test_features)"
   ]
  },
  {
   "cell_type": "code",
   "execution_count": 29,
   "id": "782d34f7-f31a-4baa-8cd2-392bebd9327b",
   "metadata": {},
   "outputs": [
    {
     "name": "stdout",
     "output_type": "stream",
     "text": [
      "(1195, 3828) (299, 3828)\n"
     ]
    }
   ],
   "source": [
    "# Checking the shape of the fearures\n",
    "print(X_train_features.shape,X_test_features.shape)"
   ]
  },
  {
   "cell_type": "markdown",
   "id": "0b41ad04-8925-482f-98cd-e262f9aa3e28",
   "metadata": {},
   "source": [
    "**Training the Machine Learning model**"
   ]
  },
  {
   "cell_type": "code",
   "execution_count": 31,
   "id": "e771ff85-94be-46b2-b7f5-72fb9cf41fdf",
   "metadata": {},
   "outputs": [],
   "source": [
    "model = LogisticRegression()"
   ]
  },
  {
   "cell_type": "code",
   "execution_count": 32,
   "id": "55731f6e-9e20-47dd-8ee4-9a1c3116c165",
   "metadata": {},
   "outputs": [
    {
     "data": {
      "text/html": [
       "<style>#sk-container-id-1 {\n",
       "  /* Definition of color scheme common for light and dark mode */\n",
       "  --sklearn-color-text: #000;\n",
       "  --sklearn-color-text-muted: #666;\n",
       "  --sklearn-color-line: gray;\n",
       "  /* Definition of color scheme for unfitted estimators */\n",
       "  --sklearn-color-unfitted-level-0: #fff5e6;\n",
       "  --sklearn-color-unfitted-level-1: #f6e4d2;\n",
       "  --sklearn-color-unfitted-level-2: #ffe0b3;\n",
       "  --sklearn-color-unfitted-level-3: chocolate;\n",
       "  /* Definition of color scheme for fitted estimators */\n",
       "  --sklearn-color-fitted-level-0: #f0f8ff;\n",
       "  --sklearn-color-fitted-level-1: #d4ebff;\n",
       "  --sklearn-color-fitted-level-2: #b3dbfd;\n",
       "  --sklearn-color-fitted-level-3: cornflowerblue;\n",
       "\n",
       "  /* Specific color for light theme */\n",
       "  --sklearn-color-text-on-default-background: var(--sg-text-color, var(--theme-code-foreground, var(--jp-content-font-color1, black)));\n",
       "  --sklearn-color-background: var(--sg-background-color, var(--theme-background, var(--jp-layout-color0, white)));\n",
       "  --sklearn-color-border-box: var(--sg-text-color, var(--theme-code-foreground, var(--jp-content-font-color1, black)));\n",
       "  --sklearn-color-icon: #696969;\n",
       "\n",
       "  @media (prefers-color-scheme: dark) {\n",
       "    /* Redefinition of color scheme for dark theme */\n",
       "    --sklearn-color-text-on-default-background: var(--sg-text-color, var(--theme-code-foreground, var(--jp-content-font-color1, white)));\n",
       "    --sklearn-color-background: var(--sg-background-color, var(--theme-background, var(--jp-layout-color0, #111)));\n",
       "    --sklearn-color-border-box: var(--sg-text-color, var(--theme-code-foreground, var(--jp-content-font-color1, white)));\n",
       "    --sklearn-color-icon: #878787;\n",
       "  }\n",
       "}\n",
       "\n",
       "#sk-container-id-1 {\n",
       "  color: var(--sklearn-color-text);\n",
       "}\n",
       "\n",
       "#sk-container-id-1 pre {\n",
       "  padding: 0;\n",
       "}\n",
       "\n",
       "#sk-container-id-1 input.sk-hidden--visually {\n",
       "  border: 0;\n",
       "  clip: rect(1px 1px 1px 1px);\n",
       "  clip: rect(1px, 1px, 1px, 1px);\n",
       "  height: 1px;\n",
       "  margin: -1px;\n",
       "  overflow: hidden;\n",
       "  padding: 0;\n",
       "  position: absolute;\n",
       "  width: 1px;\n",
       "}\n",
       "\n",
       "#sk-container-id-1 div.sk-dashed-wrapped {\n",
       "  border: 1px dashed var(--sklearn-color-line);\n",
       "  margin: 0 0.4em 0.5em 0.4em;\n",
       "  box-sizing: border-box;\n",
       "  padding-bottom: 0.4em;\n",
       "  background-color: var(--sklearn-color-background);\n",
       "}\n",
       "\n",
       "#sk-container-id-1 div.sk-container {\n",
       "  /* jupyter's `normalize.less` sets `[hidden] { display: none; }`\n",
       "     but bootstrap.min.css set `[hidden] { display: none !important; }`\n",
       "     so we also need the `!important` here to be able to override the\n",
       "     default hidden behavior on the sphinx rendered scikit-learn.org.\n",
       "     See: https://github.com/scikit-learn/scikit-learn/issues/21755 */\n",
       "  display: inline-block !important;\n",
       "  position: relative;\n",
       "}\n",
       "\n",
       "#sk-container-id-1 div.sk-text-repr-fallback {\n",
       "  display: none;\n",
       "}\n",
       "\n",
       "div.sk-parallel-item,\n",
       "div.sk-serial,\n",
       "div.sk-item {\n",
       "  /* draw centered vertical line to link estimators */\n",
       "  background-image: linear-gradient(var(--sklearn-color-text-on-default-background), var(--sklearn-color-text-on-default-background));\n",
       "  background-size: 2px 100%;\n",
       "  background-repeat: no-repeat;\n",
       "  background-position: center center;\n",
       "}\n",
       "\n",
       "/* Parallel-specific style estimator block */\n",
       "\n",
       "#sk-container-id-1 div.sk-parallel-item::after {\n",
       "  content: \"\";\n",
       "  width: 100%;\n",
       "  border-bottom: 2px solid var(--sklearn-color-text-on-default-background);\n",
       "  flex-grow: 1;\n",
       "}\n",
       "\n",
       "#sk-container-id-1 div.sk-parallel {\n",
       "  display: flex;\n",
       "  align-items: stretch;\n",
       "  justify-content: center;\n",
       "  background-color: var(--sklearn-color-background);\n",
       "  position: relative;\n",
       "}\n",
       "\n",
       "#sk-container-id-1 div.sk-parallel-item {\n",
       "  display: flex;\n",
       "  flex-direction: column;\n",
       "}\n",
       "\n",
       "#sk-container-id-1 div.sk-parallel-item:first-child::after {\n",
       "  align-self: flex-end;\n",
       "  width: 50%;\n",
       "}\n",
       "\n",
       "#sk-container-id-1 div.sk-parallel-item:last-child::after {\n",
       "  align-self: flex-start;\n",
       "  width: 50%;\n",
       "}\n",
       "\n",
       "#sk-container-id-1 div.sk-parallel-item:only-child::after {\n",
       "  width: 0;\n",
       "}\n",
       "\n",
       "/* Serial-specific style estimator block */\n",
       "\n",
       "#sk-container-id-1 div.sk-serial {\n",
       "  display: flex;\n",
       "  flex-direction: column;\n",
       "  align-items: center;\n",
       "  background-color: var(--sklearn-color-background);\n",
       "  padding-right: 1em;\n",
       "  padding-left: 1em;\n",
       "}\n",
       "\n",
       "\n",
       "/* Toggleable style: style used for estimator/Pipeline/ColumnTransformer box that is\n",
       "clickable and can be expanded/collapsed.\n",
       "- Pipeline and ColumnTransformer use this feature and define the default style\n",
       "- Estimators will overwrite some part of the style using the `sk-estimator` class\n",
       "*/\n",
       "\n",
       "/* Pipeline and ColumnTransformer style (default) */\n",
       "\n",
       "#sk-container-id-1 div.sk-toggleable {\n",
       "  /* Default theme specific background. It is overwritten whether we have a\n",
       "  specific estimator or a Pipeline/ColumnTransformer */\n",
       "  background-color: var(--sklearn-color-background);\n",
       "}\n",
       "\n",
       "/* Toggleable label */\n",
       "#sk-container-id-1 label.sk-toggleable__label {\n",
       "  cursor: pointer;\n",
       "  display: flex;\n",
       "  width: 100%;\n",
       "  margin-bottom: 0;\n",
       "  padding: 0.5em;\n",
       "  box-sizing: border-box;\n",
       "  text-align: center;\n",
       "  align-items: start;\n",
       "  justify-content: space-between;\n",
       "  gap: 0.5em;\n",
       "}\n",
       "\n",
       "#sk-container-id-1 label.sk-toggleable__label .caption {\n",
       "  font-size: 0.6rem;\n",
       "  font-weight: lighter;\n",
       "  color: var(--sklearn-color-text-muted);\n",
       "}\n",
       "\n",
       "#sk-container-id-1 label.sk-toggleable__label-arrow:before {\n",
       "  /* Arrow on the left of the label */\n",
       "  content: \"▸\";\n",
       "  float: left;\n",
       "  margin-right: 0.25em;\n",
       "  color: var(--sklearn-color-icon);\n",
       "}\n",
       "\n",
       "#sk-container-id-1 label.sk-toggleable__label-arrow:hover:before {\n",
       "  color: var(--sklearn-color-text);\n",
       "}\n",
       "\n",
       "/* Toggleable content - dropdown */\n",
       "\n",
       "#sk-container-id-1 div.sk-toggleable__content {\n",
       "  max-height: 0;\n",
       "  max-width: 0;\n",
       "  overflow: hidden;\n",
       "  text-align: left;\n",
       "  /* unfitted */\n",
       "  background-color: var(--sklearn-color-unfitted-level-0);\n",
       "}\n",
       "\n",
       "#sk-container-id-1 div.sk-toggleable__content.fitted {\n",
       "  /* fitted */\n",
       "  background-color: var(--sklearn-color-fitted-level-0);\n",
       "}\n",
       "\n",
       "#sk-container-id-1 div.sk-toggleable__content pre {\n",
       "  margin: 0.2em;\n",
       "  border-radius: 0.25em;\n",
       "  color: var(--sklearn-color-text);\n",
       "  /* unfitted */\n",
       "  background-color: var(--sklearn-color-unfitted-level-0);\n",
       "}\n",
       "\n",
       "#sk-container-id-1 div.sk-toggleable__content.fitted pre {\n",
       "  /* unfitted */\n",
       "  background-color: var(--sklearn-color-fitted-level-0);\n",
       "}\n",
       "\n",
       "#sk-container-id-1 input.sk-toggleable__control:checked~div.sk-toggleable__content {\n",
       "  /* Expand drop-down */\n",
       "  max-height: 200px;\n",
       "  max-width: 100%;\n",
       "  overflow: auto;\n",
       "}\n",
       "\n",
       "#sk-container-id-1 input.sk-toggleable__control:checked~label.sk-toggleable__label-arrow:before {\n",
       "  content: \"▾\";\n",
       "}\n",
       "\n",
       "/* Pipeline/ColumnTransformer-specific style */\n",
       "\n",
       "#sk-container-id-1 div.sk-label input.sk-toggleable__control:checked~label.sk-toggleable__label {\n",
       "  color: var(--sklearn-color-text);\n",
       "  background-color: var(--sklearn-color-unfitted-level-2);\n",
       "}\n",
       "\n",
       "#sk-container-id-1 div.sk-label.fitted input.sk-toggleable__control:checked~label.sk-toggleable__label {\n",
       "  background-color: var(--sklearn-color-fitted-level-2);\n",
       "}\n",
       "\n",
       "/* Estimator-specific style */\n",
       "\n",
       "/* Colorize estimator box */\n",
       "#sk-container-id-1 div.sk-estimator input.sk-toggleable__control:checked~label.sk-toggleable__label {\n",
       "  /* unfitted */\n",
       "  background-color: var(--sklearn-color-unfitted-level-2);\n",
       "}\n",
       "\n",
       "#sk-container-id-1 div.sk-estimator.fitted input.sk-toggleable__control:checked~label.sk-toggleable__label {\n",
       "  /* fitted */\n",
       "  background-color: var(--sklearn-color-fitted-level-2);\n",
       "}\n",
       "\n",
       "#sk-container-id-1 div.sk-label label.sk-toggleable__label,\n",
       "#sk-container-id-1 div.sk-label label {\n",
       "  /* The background is the default theme color */\n",
       "  color: var(--sklearn-color-text-on-default-background);\n",
       "}\n",
       "\n",
       "/* On hover, darken the color of the background */\n",
       "#sk-container-id-1 div.sk-label:hover label.sk-toggleable__label {\n",
       "  color: var(--sklearn-color-text);\n",
       "  background-color: var(--sklearn-color-unfitted-level-2);\n",
       "}\n",
       "\n",
       "/* Label box, darken color on hover, fitted */\n",
       "#sk-container-id-1 div.sk-label.fitted:hover label.sk-toggleable__label.fitted {\n",
       "  color: var(--sklearn-color-text);\n",
       "  background-color: var(--sklearn-color-fitted-level-2);\n",
       "}\n",
       "\n",
       "/* Estimator label */\n",
       "\n",
       "#sk-container-id-1 div.sk-label label {\n",
       "  font-family: monospace;\n",
       "  font-weight: bold;\n",
       "  display: inline-block;\n",
       "  line-height: 1.2em;\n",
       "}\n",
       "\n",
       "#sk-container-id-1 div.sk-label-container {\n",
       "  text-align: center;\n",
       "}\n",
       "\n",
       "/* Estimator-specific */\n",
       "#sk-container-id-1 div.sk-estimator {\n",
       "  font-family: monospace;\n",
       "  border: 1px dotted var(--sklearn-color-border-box);\n",
       "  border-radius: 0.25em;\n",
       "  box-sizing: border-box;\n",
       "  margin-bottom: 0.5em;\n",
       "  /* unfitted */\n",
       "  background-color: var(--sklearn-color-unfitted-level-0);\n",
       "}\n",
       "\n",
       "#sk-container-id-1 div.sk-estimator.fitted {\n",
       "  /* fitted */\n",
       "  background-color: var(--sklearn-color-fitted-level-0);\n",
       "}\n",
       "\n",
       "/* on hover */\n",
       "#sk-container-id-1 div.sk-estimator:hover {\n",
       "  /* unfitted */\n",
       "  background-color: var(--sklearn-color-unfitted-level-2);\n",
       "}\n",
       "\n",
       "#sk-container-id-1 div.sk-estimator.fitted:hover {\n",
       "  /* fitted */\n",
       "  background-color: var(--sklearn-color-fitted-level-2);\n",
       "}\n",
       "\n",
       "/* Specification for estimator info (e.g. \"i\" and \"?\") */\n",
       "\n",
       "/* Common style for \"i\" and \"?\" */\n",
       "\n",
       ".sk-estimator-doc-link,\n",
       "a:link.sk-estimator-doc-link,\n",
       "a:visited.sk-estimator-doc-link {\n",
       "  float: right;\n",
       "  font-size: smaller;\n",
       "  line-height: 1em;\n",
       "  font-family: monospace;\n",
       "  background-color: var(--sklearn-color-background);\n",
       "  border-radius: 1em;\n",
       "  height: 1em;\n",
       "  width: 1em;\n",
       "  text-decoration: none !important;\n",
       "  margin-left: 0.5em;\n",
       "  text-align: center;\n",
       "  /* unfitted */\n",
       "  border: var(--sklearn-color-unfitted-level-1) 1pt solid;\n",
       "  color: var(--sklearn-color-unfitted-level-1);\n",
       "}\n",
       "\n",
       ".sk-estimator-doc-link.fitted,\n",
       "a:link.sk-estimator-doc-link.fitted,\n",
       "a:visited.sk-estimator-doc-link.fitted {\n",
       "  /* fitted */\n",
       "  border: var(--sklearn-color-fitted-level-1) 1pt solid;\n",
       "  color: var(--sklearn-color-fitted-level-1);\n",
       "}\n",
       "\n",
       "/* On hover */\n",
       "div.sk-estimator:hover .sk-estimator-doc-link:hover,\n",
       ".sk-estimator-doc-link:hover,\n",
       "div.sk-label-container:hover .sk-estimator-doc-link:hover,\n",
       ".sk-estimator-doc-link:hover {\n",
       "  /* unfitted */\n",
       "  background-color: var(--sklearn-color-unfitted-level-3);\n",
       "  color: var(--sklearn-color-background);\n",
       "  text-decoration: none;\n",
       "}\n",
       "\n",
       "div.sk-estimator.fitted:hover .sk-estimator-doc-link.fitted:hover,\n",
       ".sk-estimator-doc-link.fitted:hover,\n",
       "div.sk-label-container:hover .sk-estimator-doc-link.fitted:hover,\n",
       ".sk-estimator-doc-link.fitted:hover {\n",
       "  /* fitted */\n",
       "  background-color: var(--sklearn-color-fitted-level-3);\n",
       "  color: var(--sklearn-color-background);\n",
       "  text-decoration: none;\n",
       "}\n",
       "\n",
       "/* Span, style for the box shown on hovering the info icon */\n",
       ".sk-estimator-doc-link span {\n",
       "  display: none;\n",
       "  z-index: 9999;\n",
       "  position: relative;\n",
       "  font-weight: normal;\n",
       "  right: .2ex;\n",
       "  padding: .5ex;\n",
       "  margin: .5ex;\n",
       "  width: min-content;\n",
       "  min-width: 20ex;\n",
       "  max-width: 50ex;\n",
       "  color: var(--sklearn-color-text);\n",
       "  box-shadow: 2pt 2pt 4pt #999;\n",
       "  /* unfitted */\n",
       "  background: var(--sklearn-color-unfitted-level-0);\n",
       "  border: .5pt solid var(--sklearn-color-unfitted-level-3);\n",
       "}\n",
       "\n",
       ".sk-estimator-doc-link.fitted span {\n",
       "  /* fitted */\n",
       "  background: var(--sklearn-color-fitted-level-0);\n",
       "  border: var(--sklearn-color-fitted-level-3);\n",
       "}\n",
       "\n",
       ".sk-estimator-doc-link:hover span {\n",
       "  display: block;\n",
       "}\n",
       "\n",
       "/* \"?\"-specific style due to the `<a>` HTML tag */\n",
       "\n",
       "#sk-container-id-1 a.estimator_doc_link {\n",
       "  float: right;\n",
       "  font-size: 1rem;\n",
       "  line-height: 1em;\n",
       "  font-family: monospace;\n",
       "  background-color: var(--sklearn-color-background);\n",
       "  border-radius: 1rem;\n",
       "  height: 1rem;\n",
       "  width: 1rem;\n",
       "  text-decoration: none;\n",
       "  /* unfitted */\n",
       "  color: var(--sklearn-color-unfitted-level-1);\n",
       "  border: var(--sklearn-color-unfitted-level-1) 1pt solid;\n",
       "}\n",
       "\n",
       "#sk-container-id-1 a.estimator_doc_link.fitted {\n",
       "  /* fitted */\n",
       "  border: var(--sklearn-color-fitted-level-1) 1pt solid;\n",
       "  color: var(--sklearn-color-fitted-level-1);\n",
       "}\n",
       "\n",
       "/* On hover */\n",
       "#sk-container-id-1 a.estimator_doc_link:hover {\n",
       "  /* unfitted */\n",
       "  background-color: var(--sklearn-color-unfitted-level-3);\n",
       "  color: var(--sklearn-color-background);\n",
       "  text-decoration: none;\n",
       "}\n",
       "\n",
       "#sk-container-id-1 a.estimator_doc_link.fitted:hover {\n",
       "  /* fitted */\n",
       "  background-color: var(--sklearn-color-fitted-level-3);\n",
       "}\n",
       "</style><div id=\"sk-container-id-1\" class=\"sk-top-container\"><div class=\"sk-text-repr-fallback\"><pre>LogisticRegression()</pre><b>In a Jupyter environment, please rerun this cell to show the HTML representation or trust the notebook. <br />On GitHub, the HTML representation is unable to render, please try loading this page with nbviewer.org.</b></div><div class=\"sk-container\" hidden><div class=\"sk-item\"><div class=\"sk-estimator fitted sk-toggleable\"><input class=\"sk-toggleable__control sk-hidden--visually\" id=\"sk-estimator-id-1\" type=\"checkbox\" checked><label for=\"sk-estimator-id-1\" class=\"sk-toggleable__label fitted sk-toggleable__label-arrow\"><div><div>LogisticRegression</div></div><div><a class=\"sk-estimator-doc-link fitted\" rel=\"noreferrer\" target=\"_blank\" href=\"https://scikit-learn.org/1.6/modules/generated/sklearn.linear_model.LogisticRegression.html\">?<span>Documentation for LogisticRegression</span></a><span class=\"sk-estimator-doc-link fitted\">i<span>Fitted</span></span></div></label><div class=\"sk-toggleable__content fitted\"><pre>LogisticRegression()</pre></div> </div></div></div></div>"
      ],
      "text/plain": [
       "LogisticRegression()"
      ]
     },
     "execution_count": 32,
     "metadata": {},
     "output_type": "execute_result"
    }
   ],
   "source": [
    "# training the regression model with training data\n",
    "model.fit(X_train_features,y_train)"
   ]
  },
  {
   "cell_type": "markdown",
   "id": "9ee429e3-4223-4138-8184-df728919a1ca",
   "metadata": {},
   "source": [
    "**Evaluation of model**"
   ]
  },
  {
   "cell_type": "code",
   "execution_count": 33,
   "id": "c4616c1c-a193-46ef-a1fb-cb4513a09490",
   "metadata": {},
   "outputs": [
    {
     "name": "stdout",
     "output_type": "stream",
     "text": [
      "Accuracy on training data is :  0.9866108786610879\n"
     ]
    }
   ],
   "source": [
    "# Prediction on trained model\n",
    "X_train_prediction = model.predict(X_train_features)\n",
    "\n",
    "# Storing accuracy of the model\n",
    "X_train_accuracy = accuracy_score(X_train_prediction,y_train)\n",
    "\n",
    "# printing the accuracy value\n",
    "print(\"Accuracy on training data is : \",X_train_accuracy)"
   ]
  },
  {
   "cell_type": "code",
   "execution_count": 34,
   "id": "53e92ac9-8648-41fd-b3a9-a80081bcc5fc",
   "metadata": {},
   "outputs": [
    {
     "name": "stdout",
     "output_type": "stream",
     "text": [
      "Accuracy on testing data is :  0.9531772575250836\n"
     ]
    }
   ],
   "source": [
    "# Prediction on trained model\n",
    "X_test_prediction = model.predict(X_test_features)\n",
    "\n",
    "# Storing accuracy of the model\n",
    "X_test_accuracy = accuracy_score(X_test_prediction,y_test)\n",
    "\n",
    "# printing the accuracy value\n",
    "print(\"Accuracy on testing data is : \",X_test_accuracy)"
   ]
  },
  {
   "cell_type": "markdown",
   "id": "6ae55ca7-3c20-402d-b18c-02bdbf29682d",
   "metadata": {},
   "source": [
    "**Making a predictive system**"
   ]
  },
  {
   "cell_type": "code",
   "execution_count": 37,
   "id": "d0e6dec9-34a5-4226-aae2-e0b494c402e9",
   "metadata": {},
   "outputs": [
    {
     "name": "stdout",
     "output_type": "stream",
     "text": [
      "[1]\n",
      "The given mail or input is a ham mail\n"
     ]
    }
   ],
   "source": [
    "# Insert the data\n",
    "input_mail = [\"U dun say so early hor... U c already then say...\"]\n",
    "\n",
    "# Converting it into feature vector\n",
    "input_data_featured = feature_extraction.transform(input_mail)\n",
    "\n",
    "# Making prediction\n",
    "prediction = model.predict(input_data_featured)\n",
    "\n",
    "# Printing the predicted value\n",
    "print(prediction)\n",
    "\n",
    "# Output in the form of text\n",
    "if(prediction[0]== 1 ):\n",
    "    print(\"The given mail or input is a ham mail\")\n",
    "else:\n",
    "   print(\"The given mail or input is a spam mail\") "
   ]
  },
  {
   "cell_type": "markdown",
   "id": "d2d03006-b1b0-42f8-9442-d0c2999c5a31",
   "metadata": {},
   "source": [
    "As we have seen previously that we have converted the ham and spam in a labelled data so for 1 it means its ham and if 0 its spam"
   ]
  }
 ],
 "metadata": {
  "kernelspec": {
   "display_name": "Python 3 (ipykernel)",
   "language": "python",
   "name": "python3"
  },
  "language_info": {
   "codemirror_mode": {
    "name": "ipython",
    "version": 3
   },
   "file_extension": ".py",
   "mimetype": "text/x-python",
   "name": "python",
   "nbconvert_exporter": "python",
   "pygments_lexer": "ipython3",
   "version": "3.13.3"
  }
 },
 "nbformat": 4,
 "nbformat_minor": 5
}
